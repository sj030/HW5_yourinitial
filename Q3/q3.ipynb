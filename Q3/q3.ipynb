{
 "cells": [
  {
   "cell_type": "code",
   "execution_count": 2,
   "id": "071e1b04",
   "metadata": {},
   "outputs": [],
   "source": [
    "import csv"
   ]
  },
  {
   "cell_type": "code",
   "execution_count": 38,
   "id": "d786f888",
   "metadata": {},
   "outputs": [
    {
     "name": "stdout",
     "output_type": "stream",
     "text": [
      "1st Busiest Line: 2호선(the number of total passengers)\n",
      "2st Busiest Line: 5호선(the number of total passengers)\n",
      "1st Least Line: 8호선(the number of total passengers)\n",
      "2st Least Line: 1호선(the number of total passengers)\n"
     ]
    }
   ],
   "source": [
    "def main():\n",
    "    name = ['1호선', '2호선', '3호선','4호선','5호선','6호선','7호선','8호선','9호선']\n",
    "    Passengers = [0,0,0,0,0,0,0,0,0]\n",
    "    f=open('202303_Seoul_Subway.csv','r',encoding='cp949')\n",
    "    data=csv.reader(f,delimiter=',')\n",
    "    header = next(data)\n",
    "    for row in data:\n",
    "        for i in range(9):\n",
    "            if(row[1] == name[i]):\n",
    "                Passengers[i] += float(row[-2]) + float(row[-3])\n",
    "                \n",
    "    f.close()\n",
    "    for k in range(2):\n",
    "        maxPass = -999\n",
    "        idx = -1\n",
    "        for i in range(9):#Passengers[i] == -1은 순위권에 들어 제거된 데이터\n",
    "            if(Passengers[i] != -1 and Passengers[i] > maxPass):\n",
    "                maxPass = Passengers[i]\n",
    "                idx = i\n",
    "        print(str(k+1) + \"st Busiest Line: \" + str(name[idx]) + \"(the number of total passengers)\")\n",
    "        Passengers[idx] = -1\n",
    "\n",
    "        \n",
    "    for k in range(2):\n",
    "        minPass = 999999999\n",
    "        idx = -1\n",
    "        for i in range(9):#Passengers[i] == -1은 순위권에 들어 제거된 데이터\n",
    "            if(Passengers[i] != -1 and Passengers[i] < minPass):\n",
    "                minPass = Passengers[i]\n",
    "                idx = i\n",
    "        print(str(k+1) + \"st Least Line: \" + str(name[idx]) + \"(the number of total passengers)\")\n",
    "        Passengers[idx] = -1\n",
    "        \n",
    "        \n",
    "if __name__ == \"__main__\":\n",
    "\tmain()"
   ]
  },
  {
   "cell_type": "code",
   "execution_count": null,
   "id": "3d432042",
   "metadata": {},
   "outputs": [],
   "source": []
  }
 ],
 "metadata": {
  "kernelspec": {
   "display_name": "Python 3 (ipykernel)",
   "language": "python",
   "name": "python3"
  },
  "language_info": {
   "codemirror_mode": {
    "name": "ipython",
    "version": 3
   },
   "file_extension": ".py",
   "mimetype": "text/x-python",
   "name": "python",
   "nbconvert_exporter": "python",
   "pygments_lexer": "ipython3",
   "version": "3.9.13"
  }
 },
 "nbformat": 4,
 "nbformat_minor": 5
}
