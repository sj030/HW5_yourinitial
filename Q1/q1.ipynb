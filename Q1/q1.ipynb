{
 "cells": [
  {
   "cell_type": "code",
   "execution_count": 1,
   "id": "8211581d",
   "metadata": {},
   "outputs": [],
   "source": [
    "import csv"
   ]
  },
  {
   "cell_type": "code",
   "execution_count": 44,
   "id": "a1f06fda",
   "metadata": {},
   "outputs": [
    {
     "name": "stdout",
     "output_type": "stream",
     "text": [
      "*** Annual Temperature Report for Seoul in 2022 ***\n",
      "Average Temperature: 13.26 Celsius\n",
      "Average Minimum Temperature: -13.7 Celsius\n",
      "Average Maximun Temperature: 36.1 Celsius\n"
     ]
    }
   ],
   "source": [
    "def main():\n",
    "    f=open('2022_Seoul_Temp.csv','r',encoding='cp949')\n",
    "    data=csv.reader(f,delimiter=',')\n",
    "    header = next(data)\n",
    "\n",
    "    annualLowest = 999\n",
    "    annualHighest = -999\n",
    "    annualAverage = 0\n",
    "    count = 0 #총 몇 명이 있는지\n",
    "    for row in data:\n",
    "        if(row[-1]!='') and (row[-2] != '') and (row[-3] != ''):\n",
    "            row[-1] = float(row[-1])\n",
    "            row[-2] = float(row[-2])\n",
    "            row[-3] = float(row[-3])\n",
    "            if row[-1] > annualHighest:\n",
    "                annualHighest = row[-1]\n",
    "            if row[-2] < annualLowest:\n",
    "                annualLowest = row[-2]\n",
    "            annualAverage += row[-3]\n",
    "            count += 1        \n",
    "    f.close()\n",
    "    print(\"*** Annual Temperature Report for Seoul in 2022 ***\")\n",
    "    print(\"Average Temperature: \" + str(round(annualAverage / count, 2)) + \" Celsius\")\n",
    "    print(\"Average Minimum Temperature: \" + str(round(annualLowest,2)) + \" Celsius\")\n",
    "    print(\"Average Maximun Temperature: \" + str(round(annualHighest,2)) + \" Celsius\")\n",
    "\n",
    "if __name__ == \"__main__\":\n",
    "\tmain()\n",
    "\n"
   ]
  },
  {
   "cell_type": "code",
   "execution_count": 43,
   "id": "2d637ec0",
   "metadata": {},
   "outputs": [
    {
     "ename": "IndentationError",
     "evalue": "expected an indented block (2500997886.py, line 12)",
     "output_type": "error",
     "traceback": [
      "\u001b[1;36m  Cell \u001b[1;32mIn[43], line 12\u001b[1;36m\u001b[0m\n\u001b[1;33m    if __name__ == \"__main__\":\u001b[0m\n\u001b[1;37m                              ^\u001b[0m\n\u001b[1;31mIndentationError\u001b[0m\u001b[1;31m:\u001b[0m expected an indented block\n"
     ]
    }
   ],
   "source": []
  },
  {
   "cell_type": "code",
   "execution_count": null,
   "id": "aab0ff87",
   "metadata": {},
   "outputs": [],
   "source": []
  }
 ],
 "metadata": {
  "kernelspec": {
   "display_name": "Python 3 (ipykernel)",
   "language": "python",
   "name": "python3"
  },
  "language_info": {
   "codemirror_mode": {
    "name": "ipython",
    "version": 3
   },
   "file_extension": ".py",
   "mimetype": "text/x-python",
   "name": "python",
   "nbconvert_exporter": "python",
   "pygments_lexer": "ipython3",
   "version": "3.9.13"
  }
 },
 "nbformat": 4,
 "nbformat_minor": 5
}
