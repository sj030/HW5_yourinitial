{
 "cells": [
  {
   "cell_type": "code",
   "execution_count": 1,
   "id": "1b74f42a",
   "metadata": {},
   "outputs": [],
   "source": [
    "import csv"
   ]
  },
  {
   "cell_type": "code",
   "execution_count": 28,
   "id": "06fbf815",
   "metadata": {},
   "outputs": [
    {
     "name": "stdout",
     "output_type": "stream",
     "text": [
      "['사용월', '호선명', '역ID', '지하철역', '승차승객수', '하차승객수', '작업일시']\n",
      "1호선:\n",
      "Busiest Station: 3084227.0(the number of total Passengers)\n",
      "Least Station: 658566.0(the number of total Passengers)\n",
      "2호선:\n",
      "Busiest Station: 4690366.0(the number of total Passengers)\n",
      "Least Station: 80084.0(the number of total Passengers)\n",
      "3호선:\n",
      "Busiest Station: 2886887.0(the number of total Passengers)\n",
      "Least Station: 48.0(the number of total Passengers)\n",
      "4호선:\n",
      "Busiest Station: 2286709.0(the number of total Passengers)\n",
      "Least Station: 79916.0(the number of total Passengers)\n"
     ]
    }
   ],
   "source": [
    "def main():\n",
    "    name = ['1호선', '2호선', '3호선','4호선']\n",
    "    MaxPassengers = [0,0,0,0]\n",
    "    MinPassengers = [999999,99999,99999,99999]\n",
    "    Maxresult = ['', '', '', '']\n",
    "    Minresult = ['', '', '', '']\n",
    "\n",
    "    f=open('202303_Seoul_Subway.csv','r',encoding='cp949')\n",
    "    data=csv.reader(f,delimiter=',')\n",
    "    header = next(data)\n",
    "    \n",
    "    for row in data:\n",
    "        for i in range(4):\n",
    "            if(row[1] == name[i]):\n",
    "                Passengers = float(row[-2]) + float(row[-3])\n",
    "                if(Passengers > MaxPassengers[i]):\n",
    "                    MaxPassengers[i] = Passengers\n",
    "                    Maxresult[i] = row[3]\n",
    "                if(Passengers < MinPassengers[i]):\n",
    "                    MinPassengers[i] = Passengers\n",
    "                    Minresult[i] = row[3]\n",
    "    f.close()\n",
    "    \n",
    "    for i in range(4):\n",
    "        print(name[i] +\":\")\n",
    "        print(\"Busiest Station: \" + str(MaxPassengers[i]) + \"(the number of total Passengers)\")\n",
    "        print(\"Least Station: \" + str(MinPassengers[i]) + \"(the number of total Passengers)\")\n",
    "        \n",
    "    \n",
    "    \n",
    "\n",
    "if __name__ == \"__main__\":        \n",
    "    main()\n",
    "\n"
   ]
  },
  {
   "cell_type": "code",
   "execution_count": null,
   "id": "7365c63d",
   "metadata": {},
   "outputs": [],
   "source": []
  }
 ],
 "metadata": {
  "kernelspec": {
   "display_name": "Python 3 (ipykernel)",
   "language": "python",
   "name": "python3"
  },
  "language_info": {
   "codemirror_mode": {
    "name": "ipython",
    "version": 3
   },
   "file_extension": ".py",
   "mimetype": "text/x-python",
   "name": "python",
   "nbconvert_exporter": "python",
   "pygments_lexer": "ipython3",
   "version": "3.9.13"
  }
 },
 "nbformat": 4,
 "nbformat_minor": 5
}
