{
 "cells": [
  {
   "cell_type": "code",
   "execution_count": 1,
   "id": "6e10392b",
   "metadata": {},
   "outputs": [],
   "source": [
    "import csv"
   ]
  },
  {
   "cell_type": "code",
   "execution_count": 3,
   "id": "5f675a34",
   "metadata": {},
   "outputs": [
    {
     "name": "stdout",
     "output_type": "stream",
     "text": [
      "*** Annual Temperature Report for Seoul in 2022 ***\n",
      "Day with the Largest Temperature Variation: 2022-11-29\n",
      "Mavimun Temperature Difference: 16.6 Celsius\n",
      "Day with the Smallest Temperature Variation: 2022-06-29\n",
      "Minimun Temperature Difference: 1.7 Celsius\n"
     ]
    }
   ],
   "source": [
    "def main():\n",
    "    f=open('q2.csv','r',encoding='cp949')\n",
    "    data=csv.reader(f,delimiter=',')\n",
    "    header = next(data)\n",
    "    Lowest = 999\n",
    "    Highest = -999\n",
    "    lowDate =''\n",
    "    highDate=''\n",
    "    for row in data:\n",
    "        if(row[-1]!='') and (row[-2] != ''):\n",
    "            row[-1] = float(row[-1])\n",
    "            row[-2] = float(row[-2])\n",
    "            diff = row[-1] - row[-2]\n",
    "            if diff > Highest:\n",
    "                Highest = diff\n",
    "                highDate = row[0]\n",
    "            if diff < Lowest:\n",
    "                Lowest = diff\n",
    "                lowDate = row[0]\n",
    "    f.close()\n",
    "    print(\"*** Annual Temperature Report for Seoul in 2022 ***\")\n",
    "    print(\"Day with the Largest Temperature Variation: \" + highDate)\n",
    "    print(\"Mavimun Temperature Difference: \" + str(round(Highest,1)) + \" Celsius\")\n",
    "    print(\"Day with the Smallest Temperature Variation: \" + lowDate)\n",
    "    print(\"Minimun Temperature Difference: \" + str(round(Lowest,1)) + \" Celsius\")\n",
    "    \n",
    "if __name__ == \"__main__\":\n",
    "\tmain()"
   ]
  },
  {
   "cell_type": "code",
   "execution_count": null,
   "id": "ebf2b8f7",
   "metadata": {},
   "outputs": [],
   "source": []
  }
 ],
 "metadata": {
  "kernelspec": {
   "display_name": "Python 3 (ipykernel)",
   "language": "python",
   "name": "python3"
  },
  "language_info": {
   "codemirror_mode": {
    "name": "ipython",
    "version": 3
   },
   "file_extension": ".py",
   "mimetype": "text/x-python",
   "name": "python",
   "nbconvert_exporter": "python",
   "pygments_lexer": "ipython3",
   "version": "3.9.13"
  }
 },
 "nbformat": 4,
 "nbformat_minor": 5
}
